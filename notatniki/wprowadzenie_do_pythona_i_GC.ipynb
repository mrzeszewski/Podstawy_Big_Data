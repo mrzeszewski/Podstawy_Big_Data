{
  "nbformat": 4,
  "nbformat_minor": 0,
  "metadata": {
    "colab": {
      "provenance": [],
      "collapsed_sections": [
        "BLjNaRXNmmr8"
      ],
      "authorship_tag": "ABX9TyPDEapU6XsykTUpAvAk+Mwp",
      "include_colab_link": true
    },
    "kernelspec": {
      "name": "python3",
      "display_name": "Python 3"
    },
    "language_info": {
      "name": "python"
    }
  },
  "cells": [
    {
      "cell_type": "markdown",
      "metadata": {
        "id": "view-in-github",
        "colab_type": "text"
      },
      "source": [
        "<a href=\"https://colab.research.google.com/github/mrzeszewski/Podstawy_Big_Data/blob/main/notatniki/wprowadzenie_do_pythona_i_GC.ipynb\" target=\"_parent\"><img src=\"https://colab.research.google.com/assets/colab-badge.svg\" alt=\"Open In Colab\"/></a>"
      ]
    },
    {
      "cell_type": "markdown",
      "source": [
        "# Wprowadzenie do Pythona i Google Collab\n",
        "\n",
        "Na zajęciach postaramy się poznać podstawy języka Python i jego możliwości zastosowania w analizie Big Data. Wszystkie skrypty i dodatkowe informacje dostępne są w [**repozytorium Github**](https://github.com/mrzeszewski/Podstawy_Big_Data)\n",
        "\n",
        "Na początek sam Python, z którego będziemy korzystać w środowisku notatników Google Collab. Umożliwi nam to prace w chmurze bez oglądania się na aktualny stan komputerów w pracowni :)\n",
        "\n",
        "Python jest językiem niezwykle przyjaznym i nawet jeśli jest to Twój pierwszy kontaky z programowanie na pewno nie będzie problemów - przynajmniej na początku.\n",
        "\n",
        "Podstawy Google Collab, które musisz znać po tych zajęciach:\n",
        "\n",
        "\n",
        "1. Notatniki interaktywne Google Collab i Jupyter - co to i po co to.\n",
        "2. Jak tworzyć notatniki, jak się poruszać w interfejsie.\n",
        "3. Jak tworzyć komórki tekstowe i kodowe.\n",
        "4. Podstawy Markdown - robienie notek.\n",
        "5. Co to jest środowisko wykonawacze i jak wykonać kod - kolejność komórek i jej znaczenie.\n",
        "6. Paleta poleceń i skróty klawiszowe.\n",
        "7. Korzystanie z AI - Gemini\n",
        "8. Fragmenty kodu - code snippets\n",
        "\n",
        "\n",
        "Podstawy Pythona które musisz znać po tych zajęciach :\n",
        "\n",
        "1. Co to jest jezyk skryptowy.\n",
        "2. Podstawy składni - wcięcia, linie komentarze.  \n",
        "3. Tworzenie zmiennych i ich typy.\n",
        "4. Operatory.\n",
        "5. Struktury danych - listy, krotki i słowniki\n",
        "6. Zapytania warunkowe i pętle: if, while, for\n",
        "7. Import bibliotek dodatkowych\n",
        "8. Funkcje i ich tworzenie.\n",
        "\n",
        "## Organizacja zajęć i ważne uwagi\n",
        "\n",
        "Kilka uwag organizacyjnych i porad:\n",
        "\n",
        "\n",
        "1.   Staraj się pracować we własnym notatniku.\n",
        "2.   Traktuj notatnik jak notatnik - rób notatki dla siebie - zarówno jako pola tekstowe jak i **wewnątrz kodu**.\n",
        "3. Pamiętaj, że możesz mieć otwartych kilka notatników jednocześnie.\n",
        "4. Notatnik prowadzącego po zajęciach będzie udostępniony na [repozytorium Github zajęć](https://github.com/mrzeszewski/Podstawy_Big_Data). Nie musisz się obawiać, że coś pominiesz.\n",
        "\n",
        "\n",
        "\n"
      ],
      "metadata": {
        "id": "BLjNaRXNmmr8"
      }
    }
  ]
}