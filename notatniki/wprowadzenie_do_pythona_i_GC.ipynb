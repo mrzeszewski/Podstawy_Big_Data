{
  "nbformat": 4,
  "nbformat_minor": 0,
  "metadata": {
    "colab": {
      "provenance": [],
      "collapsed_sections": [
        "BLjNaRXNmmr8"
      ],
      "authorship_tag": "ABX9TyO/9mABxeomIvqU4XfYu5vK",
      "include_colab_link": true
    },
    "kernelspec": {
      "name": "python3",
      "display_name": "Python 3"
    },
    "language_info": {
      "name": "python"
    }
  },
  "cells": [
    {
      "cell_type": "markdown",
      "metadata": {
        "id": "view-in-github",
        "colab_type": "text"
      },
      "source": [
        "<a href=\"https://colab.research.google.com/github/mrzeszewski/Podstawy_Big_Data/blob/main/notatniki/wprowadzenie_do_pythona_i_GC.ipynb\" target=\"_parent\"><img src=\"https://colab.research.google.com/assets/colab-badge.svg\" alt=\"Open In Colab\"/></a>"
      ]
    },
    {
      "cell_type": "markdown",
      "source": [
        "# Wprowadzenie do Pythona i Google Collab\n",
        "\n",
        "Na zajęciach postaramy się poznać podstawy języka Python i jego możliwości zastosowania w analizie Big Data. Wszystkie skrypty i dodatkowe informacje dostępne są w [**repozytorium Github**](https://github.com/mrzeszewski/Podstawy_Big_Data)\n",
        "\n",
        "Na początek sam Python, z którego będziemy korzystać w środowisku notatników Google Collab. Umożliwi nam to prace w chmurze bez oglądania się na aktualny stan komputerów w pracowni :)\n",
        "\n",
        "Python jest językiem niezwykle przyjaznym i nawet jeśli jest to Twój pierwszy kontaky z programowanie na pewno nie będzie problemów - przynajmniej na początku.\n",
        "\n",
        "Podstawy Google Collab, które musisz znać po tych zajęciach:\n",
        "\n",
        "\n",
        "1. Notatniki interaktywne Google Collab i Jupyter - co to i po co to.\n",
        "2. Jak tworzyć notatniki, jak się poruszać w interfejsie.\n",
        "3. Jak tworzyć komórki tekstowe i kodowe.\n",
        "4. Podstawy Markdown - robienie notek.\n",
        "5. Co to jest środowisko wykonawacze i jak wykonać kod - kolejność komórek i jej znaczenie.\n",
        "6. Paleta poleceń i skróty klawiszowe.\n",
        "7. Korzystanie z AI - Gemini\n",
        "8. Fragmenty kodu - code snippets\n",
        "\n",
        "\n",
        "Podstawy Pythona które musisz znać po tych zajęciach :\n",
        "\n",
        "1. Co to jest jezyk skryptowy.\n",
        "2. Podstawy składni - wcięcia, linie komentarze.  \n",
        "3. Tworzenie zmiennych i ich typy.\n",
        "4. Operatory.\n",
        "5. Struktury danych - listy, krotki i słowniki\n",
        "6. Zapytania warunkowe i pętle: if, while, for\n",
        "7. Import bibliotek dodatkowych\n",
        "8. Funkcje i ich tworzenie.\n",
        "\n",
        "## Organizacja zajęć i ważne uwagi\n",
        "\n",
        "Kilka uwag organizacyjnych i porad:\n",
        "\n",
        "\n",
        "1.   Staraj się pracować we własnym notatniku.\n",
        "2.   Traktuj notatnik jak notatnik - rób notatki dla siebie - zarówno jako pola tekstowe jak i **wewnątrz kodu**.\n",
        "3. Pamiętaj, że możesz mieć otwartych kilka notatników jednocześnie.\n",
        "4. Notatnik prowadzącego po zajęciach będzie udostępniony na [repozytorium Github zajęć](https://github.com/mrzeszewski/Podstawy_Big_Data). Nie musisz się obawiać, że coś pominiesz.\n",
        "\n",
        "\n",
        "\n"
      ],
      "metadata": {
        "id": "BLjNaRXNmmr8"
      }
    },
    {
      "cell_type": "code",
      "source": [
        "a = 1\n",
        "b=2 #nie ma znaczenia czy są spacje\n",
        "print(a+b) #funkcja wyświetla na wyjściu zmienne z nawiasu\n",
        "a\n",
        "b #wyświetlana jest ostatnia zmienna w ten sposób wywołana\n",
        "\n",
        "a=10\n",
        "c=10+a+b\n",
        "print(a+b)\n",
        "c\n",
        "\n",
        "d=10.111\n",
        "\n",
        "imie=\"Jan\" #zmienna tekstowa - cudzysłów\n",
        "nazwisko=\"Kowalski\" #można używać ' lub \" ale trzeba się zdecydować\n",
        "print(imie+\" \"+nazwisko) #połączenie dwóch zmienny (konkatenacja) - spacja dodana w środku\n",
        "\n",
        "\n"
      ],
      "metadata": {
        "id": "h1t_lOdk79Zr",
        "outputId": "550648e3-1a7d-4fe0-9dee-21d7992ab5c9",
        "colab": {
          "base_uri": "https://localhost:8080/"
        }
      },
      "execution_count": 1,
      "outputs": [
        {
          "output_type": "stream",
          "name": "stdout",
          "text": [
            "3\n",
            "12\n",
            "Jan Kowalski\n"
          ]
        }
      ]
    },
    {
      "cell_type": "markdown",
      "source": [
        "##Działania na wielu komórkach\n",
        "\n",
        "Należy pamietać o kolejności wykonywania kodu"
      ],
      "metadata": {
        "id": "4oaK4C0p_Zva"
      }
    },
    {
      "cell_type": "code",
      "source": [
        "a"
      ],
      "metadata": {
        "id": "XfX6HoDx_eoB",
        "outputId": "3d685202-9762-43a9-ae82-09d6551639c4",
        "colab": {
          "base_uri": "https://localhost:8080/"
        }
      },
      "execution_count": 2,
      "outputs": [
        {
          "output_type": "execute_result",
          "data": {
            "text/plain": [
              "10"
            ]
          },
          "metadata": {},
          "execution_count": 2
        }
      ]
    },
    {
      "cell_type": "markdown",
      "source": [
        "##Przykład kodu generowanego przez AI"
      ],
      "metadata": {
        "id": "5J6jmagNB3H7"
      }
    },
    {
      "cell_type": "code",
      "source": [
        "# prompt: wygeneruj petlę dodającą liczby od 1 do 10\n",
        "\n",
        "# Inicjalizacja sumy\n",
        "suma = 0\n",
        "\n",
        "# Pętla dodająca liczby od 1 do 10\n",
        "for i in range(1, 11):\n",
        "  suma += i\n",
        "\n",
        "# Wyświetlenie sumy\n",
        "suma\n"
      ],
      "metadata": {
        "id": "02eb-87r__Q6",
        "outputId": "f7437d15-4ca1-44f9-eacd-a51e4631e20f",
        "colab": {
          "base_uri": "https://localhost:8080/"
        }
      },
      "execution_count": 3,
      "outputs": [
        {
          "output_type": "execute_result",
          "data": {
            "text/plain": [
              "55"
            ]
          },
          "metadata": {},
          "execution_count": 3
        }
      ]
    },
    {
      "cell_type": "code",
      "source": [
        "suma=str(a)+imie #funkcja str() zamienia dowolną zmienna na ciąg znaków (tekst)\n",
        "suma"
      ],
      "metadata": {
        "id": "9W5RrkrrA_R_",
        "outputId": "d17eac1f-006b-4ce4-b35f-2c1926ff7b43",
        "colab": {
          "base_uri": "https://localhost:8080/",
          "height": 35
        }
      },
      "execution_count": 4,
      "outputs": [
        {
          "output_type": "execute_result",
          "data": {
            "text/plain": [
              "'10Jan'"
            ],
            "application/vnd.google.colaboratory.intrinsic+json": {
              "type": "string"
            }
          },
          "metadata": {},
          "execution_count": 4
        }
      ]
    },
    {
      "cell_type": "markdown",
      "source": [
        "## Struktury danych"
      ],
      "metadata": {
        "id": "GZvAUh4X2ku3"
      }
    },
    {
      "cell_type": "code",
      "source": [
        "# lista\n",
        "\n",
        "lista=[1,10.1,4,\"Jan\",\"Kowalski\"]\n",
        "\n",
        "lista[1] #element o indeksie 1\n",
        "# w Pythonie pierwszy element ma indeks 0\n",
        "\n",
        "lista[-1] #to jest ostatni element listy\n",
        "\n",
        "lista[1:4] #zasięg zwraca elementy z przedziału\n",
        "\n",
        "lista.append(100) #funkcja append dodaje element do listy, tego typu funkcje nazywane są metodami obiektów\n",
        "\n",
        "lista"
      ],
      "metadata": {
        "id": "58pd4Rry2m4X",
        "outputId": "a2585a99-2904-4e61-cdc8-6d455eea04e2",
        "colab": {
          "base_uri": "https://localhost:8080/"
        }
      },
      "execution_count": 11,
      "outputs": [
        {
          "output_type": "execute_result",
          "data": {
            "text/plain": [
              "[1, 10.1, 4, 'Jan', 'Kowalski', 100]"
            ]
          },
          "metadata": {},
          "execution_count": 11
        }
      ]
    },
    {
      "cell_type": "code",
      "source": [
        "#słowniki\n",
        "\n",
        "slownik={\"imię\":\"Jan\", \"nazwisko\":\"Kowalski\", \"wiek\":45} #słownik ma strukture klucz:wartość\n",
        "\n",
        "slownik[\"imię\"] #indeksujemy za pomocą nazwy klucza\n",
        "\n",
        "slownik[\"zawód\"]=\"student\" #dodajemy do słownika nową parę klucz wartość\n",
        "\n",
        "slownik\n"
      ],
      "metadata": {
        "id": "4THGwGuf4sP-",
        "outputId": "8a1b869e-e169-42d5-800c-822818090db3",
        "colab": {
          "base_uri": "https://localhost:8080/"
        }
      },
      "execution_count": 20,
      "outputs": [
        {
          "output_type": "execute_result",
          "data": {
            "text/plain": [
              "{'imię': 'Jan', 'nazwisko': 'Kowalski', 'wiek': 45, 'zawód': 'student'}"
            ]
          },
          "metadata": {},
          "execution_count": 20
        }
      ]
    },
    {
      "cell_type": "code",
      "source": [
        "#krotki (ang. tuple)\n",
        "\n",
        "krotka=(1,10.1,4,\"Jan\",\"Kowalski\")\n",
        "\n",
        "krotka[1:3]\n",
        "\n"
      ],
      "metadata": {
        "id": "WIeVAIfU6ifN",
        "outputId": "8b94fc73-f9a4-455b-b1a3-ba83dd06a8b2",
        "colab": {
          "base_uri": "https://localhost:8080/"
        }
      },
      "execution_count": 24,
      "outputs": [
        {
          "output_type": "execute_result",
          "data": {
            "text/plain": [
              "(10.1, 4)"
            ]
          },
          "metadata": {},
          "execution_count": 24
        }
      ]
    },
    {
      "cell_type": "code",
      "source": [
        "#różnica między krotką a lista - przykład mutowalność\n",
        "#lista i słownik są mutowalne, a krotka nie\n",
        "\n",
        "lista\n",
        "\n",
        "lista[1]=566\n",
        "\n",
        "lista\n",
        "\n",
        "krotka\n",
        "\n",
        "krotka[1]=655"
      ],
      "metadata": {
        "id": "H_HjqVAV7XXs",
        "outputId": "f4fdbb74-27b7-48db-8d88-8810a03aec54",
        "colab": {
          "base_uri": "https://localhost:8080/",
          "height": 176
        }
      },
      "execution_count": 28,
      "outputs": [
        {
          "output_type": "error",
          "ename": "TypeError",
          "evalue": "'tuple' object does not support item assignment",
          "traceback": [
            "\u001b[0;31m---------------------------------------------------------------------------\u001b[0m",
            "\u001b[0;31mTypeError\u001b[0m                                 Traceback (most recent call last)",
            "\u001b[0;32m<ipython-input-28-ae68d426bec7>\u001b[0m in \u001b[0;36m<cell line: 0>\u001b[0;34m()\u001b[0m\n\u001b[1;32m     10\u001b[0m \u001b[0mkrotka\u001b[0m\u001b[0;34m\u001b[0m\u001b[0;34m\u001b[0m\u001b[0m\n\u001b[1;32m     11\u001b[0m \u001b[0;34m\u001b[0m\u001b[0m\n\u001b[0;32m---> 12\u001b[0;31m \u001b[0mkrotka\u001b[0m\u001b[0;34m[\u001b[0m\u001b[0;36m1\u001b[0m\u001b[0;34m]\u001b[0m\u001b[0;34m=\u001b[0m\u001b[0;36m655\u001b[0m\u001b[0;34m\u001b[0m\u001b[0;34m\u001b[0m\u001b[0m\n\u001b[0m",
            "\u001b[0;31mTypeError\u001b[0m: 'tuple' object does not support item assignment"
          ]
        }
      ]
    },
    {
      "cell_type": "code",
      "source": [
        "#obiekty moga być zagnieżdzone\n",
        "\n",
        "lista2=[1,2,lista]\n",
        "lista2\n",
        "\n",
        "lista2[2][1] #indeksowanie zagnieżdżonej listy na drugim poziomie"
      ],
      "metadata": {
        "id": "WPg1vY_M8DKc",
        "outputId": "ae4cec40-fb8e-444b-87fd-44ec51a6a8c7",
        "colab": {
          "base_uri": "https://localhost:8080/"
        }
      },
      "execution_count": 36,
      "outputs": [
        {
          "output_type": "execute_result",
          "data": {
            "text/plain": [
              "566"
            ]
          },
          "metadata": {},
          "execution_count": 36
        }
      ]
    },
    {
      "cell_type": "code",
      "source": [
        "type(krotka) #funkcja type zwraca typ zmiennej"
      ],
      "metadata": {
        "id": "dkW72l_-85AK",
        "outputId": "6dbacd5c-0d01-481d-c27f-be90fec4df84",
        "colab": {
          "base_uri": "https://localhost:8080/"
        }
      },
      "execution_count": 39,
      "outputs": [
        {
          "output_type": "execute_result",
          "data": {
            "text/plain": [
              "tuple"
            ]
          },
          "metadata": {},
          "execution_count": 39
        }
      ]
    },
    {
      "cell_type": "markdown",
      "source": [
        "## Pętle i warunki"
      ],
      "metadata": {
        "id": "rwEoDJ-A9LkQ"
      }
    },
    {
      "cell_type": "code",
      "source": [
        "#pętle i warunki to są narzędzie kontroli przepływu kodu\n",
        "#dwie podstawowe pętle to: for (dla każdego), while (dopóki)\n",
        "\n",
        "# for i in lista: #petla for\n",
        "#   print(i)\n",
        "\n",
        "i=15\n",
        "while i>10:\n",
        "  print(i)\n",
        "  i-=1 #operator -= zmniejsza wartość zmiennej i nadpisuję ją - inny zapis i=i-1"
      ],
      "metadata": {
        "id": "r2bAwoip9Qg6",
        "outputId": "d9073bfb-68e5-4210-a2fe-cb47a7563ffb",
        "colab": {
          "base_uri": "https://localhost:8080/"
        }
      },
      "execution_count": 49,
      "outputs": [
        {
          "output_type": "stream",
          "name": "stdout",
          "text": [
            "15\n",
            "14\n",
            "13\n",
            "12\n",
            "11\n"
          ]
        }
      ]
    },
    {
      "cell_type": "code",
      "source": [
        "#podstawym warunkiem jest if\n",
        "\n",
        "# if 2>10:\n",
        "#   print(\"prawda\")\n",
        "# else:\n",
        "#   print(\"fałsz\")\n",
        "\n",
        "# for i in lista:\n",
        "#   if i>1:\n",
        "#     print(\"większe\")\n",
        "# powyższa pętla powoduje błąd - nie można porównac int i str\n",
        "\n",
        "for i in lista:\n",
        "  try: #try pozwala wykonać kod i obsłużyć błędy w sposób elegancki, bez przerywania skryptu\n",
        "    if i>1:\n",
        "      print(\"większe\")\n",
        "    else:\n",
        "      print(\"mniejsze\")\n",
        "  except:\n",
        "    print(\"nie da się\")\n",
        ""
      ],
      "metadata": {
        "id": "Fg1lqbNK_3mw",
        "outputId": "a9655820-a2ec-4e14-f971-d219cb552965",
        "colab": {
          "base_uri": "https://localhost:8080/"
        }
      },
      "execution_count": 55,
      "outputs": [
        {
          "output_type": "stream",
          "name": "stdout",
          "text": [
            "mniejsze\n",
            "większe\n",
            "większe\n",
            "nie da się\n",
            "nie da się\n",
            "większe\n"
          ]
        }
      ]
    },
    {
      "cell_type": "markdown",
      "source": [
        "## ZADANIE 1"
      ],
      "metadata": {
        "id": "XNd3Z8DIB7Dp"
      }
    },
    {
      "cell_type": "markdown",
      "source": [],
      "metadata": {
        "id": "XSO0Um0yDlTD"
      }
    },
    {
      "cell_type": "code",
      "source": [],
      "metadata": {
        "id": "5gjhAWgJDlZu"
      },
      "execution_count": null,
      "outputs": []
    },
    {
      "cell_type": "code",
      "source": [
        "#dane do zadania\n",
        "\n",
        "tekst=\"Uniwersytet im. Adama Mickiewicza w Poznaniu (łac. Universitas Studiorum Mickiewicziana Posnaniensis lub Alma Mater Posnaniensis, skr. UAM) – polski publiczny uniwersytet z siedzibą w Poznaniu. Od 2019 jest jedną z dziesięciu polskich uczelni posiadających status uczelni badawczej[3][4]. Poznański uniwersytet powstał 4 kwietnia 1919 dzięki staraniom członków Poznańskiego Towarzystwa Przyjaciół Nauk[5], lecz jego historia sięga XVII w. i jest utożsamiana z działalnością Akademii Lubrańskiego oraz posiadającego status uniwersytetu Kolegium jezuickiego, które utworzono na mocy przywileju królewskiego Zygmunta III Wazy z 28 października 1611[6]. W czasie okupacji niemieckiej studenci i wykładowcy Uniwersytetu Poznańskiego współtworzyli podziemny Uniwersytet Ziem Zachodnich z siedzibą w Warszawie[7]. Struktura uniwersytetu składa się z pięciu szkół dziedzinowych, w ramach których funkcjonuje dwadzieścia jeden wydziałów, szkoły doktorskiej oraz czterech filii w Słubicach (współprowadzona z Europejskim Uniwersytetem Viadrina), Gnieźnie, Pile i Kaliszu[8]. Na stu dostępnych kierunkach studiów i ponad dwustu specjalnościach studiuje ponad 50 tys. studentów[4]. Uniwersytet posiada i wykorzystuje do celów naukowo-dydaktycznych szereg budynków, które są zlokalizowane na terenie Poznania, głównie w obrębie historycznego Starego Miasta, Moraska oraz Ogrodów, stanowiących trzy podstawowe kampusy. Główną biblioteką jest Biblioteka Uniwersytecka – jedna z największych bibliotek w Polsce, posiadająca w swoich zbiorach największą w Europie kolekcję masoników, w tym pierwsze wydanie tzw. Konstytucji Andersona[9][10]. W 2016 rozpoczęto tworzenie Muzeum Uniwersytetu im. Adama Mickiewicza w Poznaniu[11]. Uniwersytet im. Adama Mickiewicza jest członkiem wielu stowarzyszeń zrzeszających uniwersytety, w tym SGroup – Universities in Europe[12], Compostela Group of Universities[13] oraz EPICUR, European University Alliance[14].\"\n",
        "\n",
        "#ZADANIE - policz wystąpieni unikalnych słów w tekście, wynik zapisz w postaci słownika\n",
        "# np. {\"słowo\":10}\n",
        "\n",
        "#będą potrzebne metody (funkcje) zmiennej i listy\n",
        "\n",
        "lista_slow=tekst.split()\n",
        "\n",
        "lista_slow.count(\"Uniwersytet\") #funkcja count liczy wystąpienia słowa w liście\n",
        "\n",
        "# lista_slow.count? #znak zapytania zamiast nawiasu wyświetla pomoc\n",
        "\n",
        "slownik_czestosci={} #czesto zmienne deklaruje sie pustę na początku - dla informacji\n",
        "\n",
        "for i in lista_slow:\n",
        "  czestosc=lista_slow.count(i)\n",
        "  slownik_czestosci[i]=czestosc\n",
        "  #print(f\"Słowo {i} występuje {czestosc} razy\") #przykład f literal\n",
        "\n",
        "\n",
        "slownik_czestosci\n"
      ],
      "metadata": {
        "collapsed": true,
        "id": "nPXk2Jj5B--V",
        "outputId": "454716c4-21cf-4d10-e265-4090eb6941a4",
        "colab": {
          "base_uri": "https://localhost:8080/"
        }
      },
      "execution_count": 69,
      "outputs": [
        {
          "output_type": "execute_result",
          "data": {
            "text/plain": [
              "{'Uniwersytet': 4,\n",
              " 'im.': 3,\n",
              " 'Adama': 3,\n",
              " 'Mickiewicza': 3,\n",
              " 'w': 12,\n",
              " 'Poznaniu': 1,\n",
              " '(łac.': 1,\n",
              " 'Universitas': 1,\n",
              " 'Studiorum': 1,\n",
              " 'Mickiewicziana': 1,\n",
              " 'Posnaniensis': 1,\n",
              " 'lub': 1,\n",
              " 'Alma': 1,\n",
              " 'Mater': 1,\n",
              " 'Posnaniensis,': 1,\n",
              " 'skr.': 1,\n",
              " 'UAM)': 1,\n",
              " '–': 3,\n",
              " 'polski': 1,\n",
              " 'publiczny': 1,\n",
              " 'uniwersytet': 2,\n",
              " 'z': 8,\n",
              " 'siedzibą': 2,\n",
              " 'Poznaniu.': 1,\n",
              " 'Od': 1,\n",
              " '2019': 1,\n",
              " 'jest': 4,\n",
              " 'jedną': 1,\n",
              " 'dziesięciu': 1,\n",
              " 'polskich': 1,\n",
              " 'uczelni': 2,\n",
              " 'posiadających': 1,\n",
              " 'status': 2,\n",
              " 'badawczej[3][4].': 1,\n",
              " 'Poznański': 1,\n",
              " 'powstał': 1,\n",
              " '4': 1,\n",
              " 'kwietnia': 1,\n",
              " '1919': 1,\n",
              " 'dzięki': 1,\n",
              " 'staraniom': 1,\n",
              " 'członków': 1,\n",
              " 'Poznańskiego': 2,\n",
              " 'Towarzystwa': 1,\n",
              " 'Przyjaciół': 1,\n",
              " 'Nauk[5],': 1,\n",
              " 'lecz': 1,\n",
              " 'jego': 1,\n",
              " 'historia': 1,\n",
              " 'sięga': 1,\n",
              " 'XVII': 1,\n",
              " 'w.': 1,\n",
              " 'i': 5,\n",
              " 'utożsamiana': 1,\n",
              " 'działalnością': 1,\n",
              " 'Akademii': 1,\n",
              " 'Lubrańskiego': 1,\n",
              " 'oraz': 4,\n",
              " 'posiadającego': 1,\n",
              " 'uniwersytetu': 2,\n",
              " 'Kolegium': 1,\n",
              " 'jezuickiego,': 1,\n",
              " 'które': 2,\n",
              " 'utworzono': 1,\n",
              " 'na': 2,\n",
              " 'mocy': 1,\n",
              " 'przywileju': 1,\n",
              " 'królewskiego': 1,\n",
              " 'Zygmunta': 1,\n",
              " 'III': 1,\n",
              " 'Wazy': 1,\n",
              " '28': 1,\n",
              " 'października': 1,\n",
              " '1611[6].': 1,\n",
              " 'W': 2,\n",
              " 'czasie': 1,\n",
              " 'okupacji': 1,\n",
              " 'niemieckiej': 1,\n",
              " 'studenci': 1,\n",
              " 'wykładowcy': 1,\n",
              " 'Uniwersytetu': 2,\n",
              " 'współtworzyli': 1,\n",
              " 'podziemny': 1,\n",
              " 'Ziem': 1,\n",
              " 'Zachodnich': 1,\n",
              " 'Warszawie[7].': 1,\n",
              " 'Struktura': 1,\n",
              " 'składa': 1,\n",
              " 'się': 1,\n",
              " 'pięciu': 1,\n",
              " 'szkół': 1,\n",
              " 'dziedzinowych,': 1,\n",
              " 'ramach': 1,\n",
              " 'których': 1,\n",
              " 'funkcjonuje': 1,\n",
              " 'dwadzieścia': 1,\n",
              " 'jeden': 1,\n",
              " 'wydziałów,': 1,\n",
              " 'szkoły': 1,\n",
              " 'doktorskiej': 1,\n",
              " 'czterech': 1,\n",
              " 'filii': 1,\n",
              " 'Słubicach': 1,\n",
              " '(współprowadzona': 1,\n",
              " 'Europejskim': 1,\n",
              " 'Uniwersytetem': 1,\n",
              " 'Viadrina),': 1,\n",
              " 'Gnieźnie,': 1,\n",
              " 'Pile': 1,\n",
              " 'Kaliszu[8].': 1,\n",
              " 'Na': 1,\n",
              " 'stu': 1,\n",
              " 'dostępnych': 1,\n",
              " 'kierunkach': 1,\n",
              " 'studiów': 1,\n",
              " 'ponad': 2,\n",
              " 'dwustu': 1,\n",
              " 'specjalnościach': 1,\n",
              " 'studiuje': 1,\n",
              " '50': 1,\n",
              " 'tys.': 1,\n",
              " 'studentów[4].': 1,\n",
              " 'posiada': 1,\n",
              " 'wykorzystuje': 1,\n",
              " 'do': 1,\n",
              " 'celów': 1,\n",
              " 'naukowo-dydaktycznych': 1,\n",
              " 'szereg': 1,\n",
              " 'budynków,': 1,\n",
              " 'są': 1,\n",
              " 'zlokalizowane': 1,\n",
              " 'terenie': 1,\n",
              " 'Poznania,': 1,\n",
              " 'głównie': 1,\n",
              " 'obrębie': 1,\n",
              " 'historycznego': 1,\n",
              " 'Starego': 1,\n",
              " 'Miasta,': 1,\n",
              " 'Moraska': 1,\n",
              " 'Ogrodów,': 1,\n",
              " 'stanowiących': 1,\n",
              " 'trzy': 1,\n",
              " 'podstawowe': 1,\n",
              " 'kampusy.': 1,\n",
              " 'Główną': 1,\n",
              " 'biblioteką': 1,\n",
              " 'Biblioteka': 1,\n",
              " 'Uniwersytecka': 1,\n",
              " 'jedna': 1,\n",
              " 'największych': 1,\n",
              " 'bibliotek': 1,\n",
              " 'Polsce,': 1,\n",
              " 'posiadająca': 1,\n",
              " 'swoich': 1,\n",
              " 'zbiorach': 1,\n",
              " 'największą': 1,\n",
              " 'Europie': 1,\n",
              " 'kolekcję': 1,\n",
              " 'masoników,': 1,\n",
              " 'tym': 2,\n",
              " 'pierwsze': 1,\n",
              " 'wydanie': 1,\n",
              " 'tzw.': 1,\n",
              " 'Konstytucji': 1,\n",
              " 'Andersona[9][10].': 1,\n",
              " '2016': 1,\n",
              " 'rozpoczęto': 1,\n",
              " 'tworzenie': 1,\n",
              " 'Muzeum': 1,\n",
              " 'Poznaniu[11].': 1,\n",
              " 'członkiem': 1,\n",
              " 'wielu': 1,\n",
              " 'stowarzyszeń': 1,\n",
              " 'zrzeszających': 1,\n",
              " 'uniwersytety,': 1,\n",
              " 'SGroup': 1,\n",
              " 'Universities': 1,\n",
              " 'in': 1,\n",
              " 'Europe[12],': 1,\n",
              " 'Compostela': 1,\n",
              " 'Group': 1,\n",
              " 'of': 1,\n",
              " 'Universities[13]': 1,\n",
              " 'EPICUR,': 1,\n",
              " 'European': 1,\n",
              " 'University': 1,\n",
              " 'Alliance[14].': 1}"
            ]
          },
          "metadata": {},
          "execution_count": 69
        }
      ]
    },
    {
      "cell_type": "markdown",
      "source": [
        "## Funkcje"
      ],
      "metadata": {
        "id": "4gq8Np_aXCA9"
      }
    },
    {
      "cell_type": "code",
      "source": [
        "\n",
        "def dodawanie(a,b): #definicja prostej funkcji, a i b to argumenty\n",
        "  suma=a+b\n",
        "  print(suma)\n",
        "\n",
        "dodawanie(10,20)\n",
        "dodawanie(1,2)\n",
        "\n",
        "suma=dodawanie(100,2.5)\n",
        "\n",
        "def dodawanie(a=0,b=0): #argumenty mogą mieć wartości domyślne\n",
        "  suma=a+b\n",
        "  print(suma)\n",
        "\n",
        "dodawanie()\n",
        "\n",
        "def dodawanie(a=0,b=0): #funkcje samoistnie nie zwracają wartości\n",
        "  suma=a+b\n",
        "\n",
        "test_sumy=dodawanie(10,20)\n",
        "\n",
        "test_sumy\n",
        "\n",
        "def dodawanie(a=0,b=0): #żeby zwrócić wartośc używamy return\n",
        "  suma=a+b\n",
        "  return suma\n",
        "\n",
        "test_sumy=dodawanie(10,20)\n",
        "\n",
        "test_sumy #teraz to ma wartość"
      ],
      "metadata": {
        "id": "yb8zLT8pXFGs",
        "outputId": "629439ea-a5f8-46de-f004-b743cec30457",
        "colab": {
          "base_uri": "https://localhost:8080/"
        }
      },
      "execution_count": 79,
      "outputs": [
        {
          "output_type": "stream",
          "name": "stdout",
          "text": [
            "30\n",
            "3\n",
            "102.5\n",
            "0\n"
          ]
        },
        {
          "output_type": "execute_result",
          "data": {
            "text/plain": [
              "30"
            ]
          },
          "metadata": {},
          "execution_count": 79
        }
      ]
    },
    {
      "cell_type": "code",
      "source": [
        "#funkcja liczaca słowa w tekście\n",
        "\n",
        "def policz_slowa(tekst):\n",
        "  lista_slow=tekst.split()\n",
        "  slownik_czestosci={}\n",
        "  for i in lista_slow:\n",
        "    czestosc=lista_slow.count(i)\n",
        "    slownik_czestosci[i]=czestosc\n",
        "  return slownik_czestosci\n",
        "\n",
        "test=policz_slowa(tekst) #przypisuje rezultat działania funkcji do zmiennej\n",
        "\n",
        "test\n",
        "\n",
        "\n"
      ],
      "metadata": {
        "id": "R2ZFaCtUZJXc",
        "outputId": "52e89a9c-953f-424f-c6e7-82e4d17a035d",
        "colab": {
          "base_uri": "https://localhost:8080/"
        }
      },
      "execution_count": 83,
      "outputs": [
        {
          "output_type": "execute_result",
          "data": {
            "text/plain": [
              "{'Uniwersytet': 4,\n",
              " 'im.': 3,\n",
              " 'Adama': 3,\n",
              " 'Mickiewicza': 3,\n",
              " 'w': 12,\n",
              " 'Poznaniu': 1,\n",
              " '(łac.': 1,\n",
              " 'Universitas': 1,\n",
              " 'Studiorum': 1,\n",
              " 'Mickiewicziana': 1,\n",
              " 'Posnaniensis': 1,\n",
              " 'lub': 1,\n",
              " 'Alma': 1,\n",
              " 'Mater': 1,\n",
              " 'Posnaniensis,': 1,\n",
              " 'skr.': 1,\n",
              " 'UAM)': 1,\n",
              " '–': 3,\n",
              " 'polski': 1,\n",
              " 'publiczny': 1,\n",
              " 'uniwersytet': 2,\n",
              " 'z': 8,\n",
              " 'siedzibą': 2,\n",
              " 'Poznaniu.': 1,\n",
              " 'Od': 1,\n",
              " '2019': 1,\n",
              " 'jest': 4,\n",
              " 'jedną': 1,\n",
              " 'dziesięciu': 1,\n",
              " 'polskich': 1,\n",
              " 'uczelni': 2,\n",
              " 'posiadających': 1,\n",
              " 'status': 2,\n",
              " 'badawczej[3][4].': 1,\n",
              " 'Poznański': 1,\n",
              " 'powstał': 1,\n",
              " '4': 1,\n",
              " 'kwietnia': 1,\n",
              " '1919': 1,\n",
              " 'dzięki': 1,\n",
              " 'staraniom': 1,\n",
              " 'członków': 1,\n",
              " 'Poznańskiego': 2,\n",
              " 'Towarzystwa': 1,\n",
              " 'Przyjaciół': 1,\n",
              " 'Nauk[5],': 1,\n",
              " 'lecz': 1,\n",
              " 'jego': 1,\n",
              " 'historia': 1,\n",
              " 'sięga': 1,\n",
              " 'XVII': 1,\n",
              " 'w.': 1,\n",
              " 'i': 5,\n",
              " 'utożsamiana': 1,\n",
              " 'działalnością': 1,\n",
              " 'Akademii': 1,\n",
              " 'Lubrańskiego': 1,\n",
              " 'oraz': 4,\n",
              " 'posiadającego': 1,\n",
              " 'uniwersytetu': 2,\n",
              " 'Kolegium': 1,\n",
              " 'jezuickiego,': 1,\n",
              " 'które': 2,\n",
              " 'utworzono': 1,\n",
              " 'na': 2,\n",
              " 'mocy': 1,\n",
              " 'przywileju': 1,\n",
              " 'królewskiego': 1,\n",
              " 'Zygmunta': 1,\n",
              " 'III': 1,\n",
              " 'Wazy': 1,\n",
              " '28': 1,\n",
              " 'października': 1,\n",
              " '1611[6].': 1,\n",
              " 'W': 2,\n",
              " 'czasie': 1,\n",
              " 'okupacji': 1,\n",
              " 'niemieckiej': 1,\n",
              " 'studenci': 1,\n",
              " 'wykładowcy': 1,\n",
              " 'Uniwersytetu': 2,\n",
              " 'współtworzyli': 1,\n",
              " 'podziemny': 1,\n",
              " 'Ziem': 1,\n",
              " 'Zachodnich': 1,\n",
              " 'Warszawie[7].': 1,\n",
              " 'Struktura': 1,\n",
              " 'składa': 1,\n",
              " 'się': 1,\n",
              " 'pięciu': 1,\n",
              " 'szkół': 1,\n",
              " 'dziedzinowych,': 1,\n",
              " 'ramach': 1,\n",
              " 'których': 1,\n",
              " 'funkcjonuje': 1,\n",
              " 'dwadzieścia': 1,\n",
              " 'jeden': 1,\n",
              " 'wydziałów,': 1,\n",
              " 'szkoły': 1,\n",
              " 'doktorskiej': 1,\n",
              " 'czterech': 1,\n",
              " 'filii': 1,\n",
              " 'Słubicach': 1,\n",
              " '(współprowadzona': 1,\n",
              " 'Europejskim': 1,\n",
              " 'Uniwersytetem': 1,\n",
              " 'Viadrina),': 1,\n",
              " 'Gnieźnie,': 1,\n",
              " 'Pile': 1,\n",
              " 'Kaliszu[8].': 1,\n",
              " 'Na': 1,\n",
              " 'stu': 1,\n",
              " 'dostępnych': 1,\n",
              " 'kierunkach': 1,\n",
              " 'studiów': 1,\n",
              " 'ponad': 2,\n",
              " 'dwustu': 1,\n",
              " 'specjalnościach': 1,\n",
              " 'studiuje': 1,\n",
              " '50': 1,\n",
              " 'tys.': 1,\n",
              " 'studentów[4].': 1,\n",
              " 'posiada': 1,\n",
              " 'wykorzystuje': 1,\n",
              " 'do': 1,\n",
              " 'celów': 1,\n",
              " 'naukowo-dydaktycznych': 1,\n",
              " 'szereg': 1,\n",
              " 'budynków,': 1,\n",
              " 'są': 1,\n",
              " 'zlokalizowane': 1,\n",
              " 'terenie': 1,\n",
              " 'Poznania,': 1,\n",
              " 'głównie': 1,\n",
              " 'obrębie': 1,\n",
              " 'historycznego': 1,\n",
              " 'Starego': 1,\n",
              " 'Miasta,': 1,\n",
              " 'Moraska': 1,\n",
              " 'Ogrodów,': 1,\n",
              " 'stanowiących': 1,\n",
              " 'trzy': 1,\n",
              " 'podstawowe': 1,\n",
              " 'kampusy.': 1,\n",
              " 'Główną': 1,\n",
              " 'biblioteką': 1,\n",
              " 'Biblioteka': 1,\n",
              " 'Uniwersytecka': 1,\n",
              " 'jedna': 1,\n",
              " 'największych': 1,\n",
              " 'bibliotek': 1,\n",
              " 'Polsce,': 1,\n",
              " 'posiadająca': 1,\n",
              " 'swoich': 1,\n",
              " 'zbiorach': 1,\n",
              " 'największą': 1,\n",
              " 'Europie': 1,\n",
              " 'kolekcję': 1,\n",
              " 'masoników,': 1,\n",
              " 'tym': 2,\n",
              " 'pierwsze': 1,\n",
              " 'wydanie': 1,\n",
              " 'tzw.': 1,\n",
              " 'Konstytucji': 1,\n",
              " 'Andersona[9][10].': 1,\n",
              " '2016': 1,\n",
              " 'rozpoczęto': 1,\n",
              " 'tworzenie': 1,\n",
              " 'Muzeum': 1,\n",
              " 'Poznaniu[11].': 1,\n",
              " 'członkiem': 1,\n",
              " 'wielu': 1,\n",
              " 'stowarzyszeń': 1,\n",
              " 'zrzeszających': 1,\n",
              " 'uniwersytety,': 1,\n",
              " 'SGroup': 1,\n",
              " 'Universities': 1,\n",
              " 'in': 1,\n",
              " 'Europe[12],': 1,\n",
              " 'Compostela': 1,\n",
              " 'Group': 1,\n",
              " 'of': 1,\n",
              " 'Universities[13]': 1,\n",
              " 'EPICUR,': 1,\n",
              " 'European': 1,\n",
              " 'University': 1,\n",
              " 'Alliance[14].': 1}"
            ]
          },
          "metadata": {},
          "execution_count": 83
        }
      ]
    }
  ]
}