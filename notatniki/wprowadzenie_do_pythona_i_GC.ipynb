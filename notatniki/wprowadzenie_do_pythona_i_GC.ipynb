{
  "nbformat": 4,
  "nbformat_minor": 0,
  "metadata": {
    "colab": {
      "provenance": [],
      "collapsed_sections": [
        "BLjNaRXNmmr8"
      ],
      "authorship_tag": "ABX9TyOY+5HymOShvBYuXX+HwQxb",
      "include_colab_link": true
    },
    "kernelspec": {
      "name": "python3",
      "display_name": "Python 3"
    },
    "language_info": {
      "name": "python"
    }
  },
  "cells": [
    {
      "cell_type": "markdown",
      "metadata": {
        "id": "view-in-github",
        "colab_type": "text"
      },
      "source": [
        "<a href=\"https://colab.research.google.com/github/mrzeszewski/Podstawy_Big_Data/blob/main/notatniki/wprowadzenie_do_pythona_i_GC.ipynb\" target=\"_parent\"><img src=\"https://colab.research.google.com/assets/colab-badge.svg\" alt=\"Open In Colab\"/></a>"
      ]
    },
    {
      "cell_type": "markdown",
      "source": [
        "# Wprowadzenie do Pythona i Google Collab\n",
        "\n",
        "Na zajęciach postaramy się poznać podstawy języka Python i jego możliwości zastosowania w analizie Big Data. Wszystkie skrypty i dodatkowe informacje dostępne są w [**repozytorium Github**](https://github.com/mrzeszewski/Podstawy_Big_Data)\n",
        "\n",
        "Na początek sam Python, z którego będziemy korzystać w środowisku notatników Google Collab. Umożliwi nam to prace w chmurze bez oglądania się na aktualny stan komputerów w pracowni :)\n",
        "\n",
        "Python jest językiem niezwykle przyjaznym i nawet jeśli jest to Twój pierwszy kontaky z programowanie na pewno nie będzie problemów - przynajmniej na początku.\n",
        "\n",
        "Podstawy Google Collab, które musisz znać po tych zajęciach:\n",
        "\n",
        "\n",
        "1. Notatniki interaktywne Google Collab i Jupyter - co to i po co to.\n",
        "2. Jak tworzyć notatniki, jak się poruszać w interfejsie.\n",
        "3. Jak tworzyć komórki tekstowe i kodowe.\n",
        "4. Podstawy Markdown - robienie notek.\n",
        "5. Co to jest środowisko wykonawacze i jak wykonać kod - kolejność komórek i jej znaczenie.\n",
        "6. Paleta poleceń i skróty klawiszowe.\n",
        "7. Korzystanie z AI - Gemini\n",
        "8. Fragmenty kodu - code snippets\n",
        "\n",
        "\n",
        "Podstawy Pythona które musisz znać po tych zajęciach :\n",
        "\n",
        "1. Co to jest jezyk skryptowy.\n",
        "2. Podstawy składni - wcięcia, linie komentarze.  \n",
        "3. Tworzenie zmiennych i ich typy.\n",
        "4. Operatory.\n",
        "5. Struktury danych - listy, krotki i słowniki\n",
        "6. Zapytania warunkowe i pętle: if, while, for\n",
        "7. Import bibliotek dodatkowych\n",
        "8. Funkcje i ich tworzenie.\n",
        "\n",
        "## Organizacja zajęć i ważne uwagi\n",
        "\n",
        "Kilka uwag organizacyjnych i porad:\n",
        "\n",
        "\n",
        "1.   Staraj się pracować we własnym notatniku.\n",
        "2.   Traktuj notatnik jak notatnik - rób notatki dla siebie - zarówno jako pola tekstowe jak i **wewnątrz kodu**.\n",
        "3. Pamiętaj, że możesz mieć otwartych kilka notatników jednocześnie.\n",
        "4. Notatnik prowadzącego po zajęciach będzie udostępniony na [repozytorium Github zajęć](https://github.com/mrzeszewski/Podstawy_Big_Data). Nie musisz się obawiać, że coś pominiesz.\n",
        "\n",
        "\n",
        "\n"
      ],
      "metadata": {
        "id": "BLjNaRXNmmr8"
      }
    },
    {
      "cell_type": "code",
      "source": [
        "a = 1\n",
        "b=2 #nie ma znaczenia czy są spacje\n",
        "print(a+b) #funkcja wyświetla na wyjściu zmienne z nawiasu\n",
        "a\n",
        "b #wyświetlana jest ostatnia zmienna w ten sposób wywołana\n",
        "\n",
        "a=10\n",
        "c=10+a+b\n",
        "print(a+b)\n",
        "c\n",
        "\n",
        "d=10.111\n",
        "\n",
        "imie=\"Jan\" #zmienna tekstowa - cudzysłów\n",
        "nazwisko=\"Kowalski\" #można używać ' lub \" ale trzeba się zdecydować\n",
        "print(imie+\" \"+nazwisko) #połączenie dwóch zmienny (konkatenacja) - spacja dodana w środku\n",
        "\n",
        "\n"
      ],
      "metadata": {
        "id": "h1t_lOdk79Zr",
        "outputId": "b2de49fb-9b14-404a-c02c-0bf393bce0c8",
        "colab": {
          "base_uri": "https://localhost:8080/"
        }
      },
      "execution_count": 11,
      "outputs": [
        {
          "output_type": "stream",
          "name": "stdout",
          "text": [
            "3\n",
            "12\n",
            "Jan Kowalski\n"
          ]
        }
      ]
    },
    {
      "cell_type": "markdown",
      "source": [
        "##Działania na wielu komórkach\n",
        "\n",
        "Należy pamietać o kolejności wykonywania kodu"
      ],
      "metadata": {
        "id": "4oaK4C0p_Zva"
      }
    },
    {
      "cell_type": "code",
      "source": [
        "a"
      ],
      "metadata": {
        "id": "XfX6HoDx_eoB",
        "outputId": "898397ba-0cb6-4e23-e81e-eeaf6a5bfa2f",
        "colab": {
          "base_uri": "https://localhost:8080/"
        }
      },
      "execution_count": 12,
      "outputs": [
        {
          "output_type": "execute_result",
          "data": {
            "text/plain": [
              "10"
            ]
          },
          "metadata": {},
          "execution_count": 12
        }
      ]
    },
    {
      "cell_type": "markdown",
      "source": [
        "##Przykład kodu generowanego przez AI"
      ],
      "metadata": {
        "id": "5J6jmagNB3H7"
      }
    },
    {
      "cell_type": "code",
      "source": [
        "# prompt: wygeneruj petlę dodającą liczby od 1 do 10\n",
        "\n",
        "# Inicjalizacja sumy\n",
        "suma = 0\n",
        "\n",
        "# Pętla dodająca liczby od 1 do 10\n",
        "for i in range(1, 11):\n",
        "  suma += i\n",
        "\n",
        "# Wyświetlenie sumy\n",
        "suma\n"
      ],
      "metadata": {
        "id": "02eb-87r__Q6",
        "outputId": "6d7dcf0c-4cdd-48c3-e32e-864b173eb184",
        "colab": {
          "base_uri": "https://localhost:8080/"
        }
      },
      "execution_count": 13,
      "outputs": [
        {
          "output_type": "execute_result",
          "data": {
            "text/plain": [
              "55"
            ]
          },
          "metadata": {},
          "execution_count": 13
        }
      ]
    },
    {
      "cell_type": "code",
      "source": [
        "suma=str(a)+imie #funkcja str() zamienia dowolną zmienna na ciąg znaków (tekst)\n",
        "suma"
      ],
      "metadata": {
        "id": "9W5RrkrrA_R_",
        "outputId": "589b08fc-350f-42c5-874d-c7885315ce05",
        "colab": {
          "base_uri": "https://localhost:8080/",
          "height": 36
        }
      },
      "execution_count": 16,
      "outputs": [
        {
          "output_type": "execute_result",
          "data": {
            "text/plain": [
              "'10Jan'"
            ],
            "application/vnd.google.colaboratory.intrinsic+json": {
              "type": "string"
            }
          },
          "metadata": {},
          "execution_count": 16
        }
      ]
    }
  ]
}