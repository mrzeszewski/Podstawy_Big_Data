{
  "nbformat": 4,
  "nbformat_minor": 0,
  "metadata": {
    "colab": {
      "provenance": [],
      "authorship_tag": "ABX9TyOWqPQRIWLvCu2bacCeUdh0",
      "include_colab_link": true
    },
    "kernelspec": {
      "name": "python3",
      "display_name": "Python 3"
    },
    "language_info": {
      "name": "python"
    }
  },
  "cells": [
    {
      "cell_type": "markdown",
      "metadata": {
        "id": "view-in-github",
        "colab_type": "text"
      },
      "source": [
        "<a href=\"https://colab.research.google.com/github/mrzeszewski/Podstawy_Big_Data/blob/main/notatniki/Pobieranie_danych_z_API.ipynb\" target=\"_parent\"><img src=\"https://colab.research.google.com/assets/colab-badge.svg\" alt=\"Open In Colab\"/></a>"
      ]
    },
    {
      "cell_type": "markdown",
      "source": [
        "Przykładowy skrypt pobierający dane z API"
      ],
      "metadata": {
        "id": "NYo7IUKZ5-hU"
      }
    },
    {
      "cell_type": "code",
      "execution_count": 2,
      "metadata": {
        "colab": {
          "base_uri": "https://localhost:8080/"
        },
        "id": "eD8-pmKl3_Rl",
        "outputId": "ed0017cf-a7c3-47ff-8a3e-1f668591e283"
      },
      "outputs": [
        {
          "output_type": "stream",
          "name": "stdout",
          "text": [
            "Nazwa stacji: Czerniawa, Miasto: Czerniawa, ID: 11\n",
            "Nazwa stacji: Dzierżoniów, ul. Piłsudskiego, Miasto: Dzierżoniów, ID: 16\n",
            "Nazwa stacji: Kłodzko, ul. Szkolna, Miasto: Kłodzko, ID: 38\n",
            "Nazwa stacji: Legnica, al. Rzeczypospolitej, Miasto: Legnica, ID: 52\n",
            "Nazwa stacji: Wrocław, ul. Bartnicza, Miasto: Wrocław, ID: 114\n",
            "Nazwa stacji: Wrocław, wyb. Conrada-Korzeniowskiego, Miasto: Wrocław, ID: 117\n",
            "Nazwa stacji: Wrocław, al. Wiśniowa, Miasto: Wrocław, ID: 129\n",
            "Nazwa stacji: Inowrocław, ul. Solankowa, Miasto: Inowrocław, ID: 143\n",
            "Nazwa stacji: Bydgoszcz, pl. Poznański, Miasto: Bydgoszcz, ID: 156\n",
            "Nazwa stacji: Bydgoszcz, ul. Warszawska, Miasto: Bydgoszcz, ID: 158\n"
          ]
        }
      ],
      "source": [
        "import requests\n",
        "\n",
        "# URL API GIOŚ do pobrania listy stacji pomiarowych\n",
        "url = \"https://api.gios.gov.pl/pjp-api/rest/station/findAll\"\n",
        "\n",
        "# Wysłanie żądania GET do API\n",
        "response = requests.get(url)\n",
        "\n",
        "# Sprawdzenie statusu odpowiedzi\n",
        "if response.status_code == 200:\n",
        "    data = response.json()\n",
        "    # Wyświetlenie pierwszych 5 stacji\n",
        "    for station in data[:10]:\n",
        "        print(f\"Nazwa stacji: {station['stationName']}, Miasto: {station['city']['name']}, ID: {station['id']}\")\n",
        "else:\n",
        "    print(\"Błąd pobierania danych:\", response.status_code)"
      ]
    },
    {
      "cell_type": "markdown",
      "source": [
        "Pobieranie danych z BDL"
      ],
      "metadata": {
        "id": "eItjPJ877hBM"
      }
    },
    {
      "cell_type": "code",
      "source": [
        "import requests\n",
        "\n",
        "zmienna=\"288636\" #zmienna BDL - cena gruntów rolnych ogółem w zł\n",
        "rok=2024\n",
        "poziom_jednostki='2'\n",
        "\n",
        "#zmienne do zapytania (parametry GET) w postaci słownika - metoda request.get() przyjmuje parametry w postaci słownika\n",
        "params={\n",
        "    'format':'json',\n",
        "    'unit-level':poziom_jednostki,\n",
        "    'year':rok,\n",
        "    'page-size':100 #długość strony - 100 na pewno obejmie województwa\n",
        "}\n",
        "\n",
        "\n",
        "url=\"https://bdl.stat.gov.pl/api/v1/data/by-variable/\" #adres endpointu API BDL - pobieranie danych wg. wybranej zmiennej\n",
        "\n",
        "response = requests.get(url+zmienna, params=params) #dodajemy zmienną do adresu - w wyniku będzie https://bdl.stat.gov.pl/api/v1/data/by-variable/288636\n",
        "\n",
        "if response.status_code == 200:\n",
        "    data = response.json()\n",
        "\n",
        "data"
      ],
      "metadata": {
        "colab": {
          "base_uri": "https://localhost:8080/"
        },
        "collapsed": true,
        "id": "8tiPWHOC7lXL",
        "outputId": "bddf0522-9f00-4558-eb0b-dceb3e34346c"
      },
      "execution_count": 9,
      "outputs": [
        {
          "output_type": "execute_result",
          "data": {
            "text/plain": [
              "{'totalRecords': 16,\n",
              " 'variableId': 288636,\n",
              " 'measureUnitId': 4,\n",
              " 'aggregateId': 1,\n",
              " 'lastUpdate': None,\n",
              " 'results': [{'id': '011200000000',\n",
              "   'name': 'MAŁOPOLSKIE',\n",
              "   'values': [{'year': '2024', 'val': 57149, 'attrId': 1}]},\n",
              "  {'id': '012400000000',\n",
              "   'name': 'ŚLĄSKIE',\n",
              "   'values': [{'year': '2024', 'val': 53265, 'attrId': 1}]},\n",
              "  {'id': '020800000000',\n",
              "   'name': 'LUBUSKIE',\n",
              "   'values': [{'year': '2024', 'val': 39300, 'attrId': 1}]},\n",
              "  {'id': '023000000000',\n",
              "   'name': 'WIELKOPOLSKIE',\n",
              "   'values': [{'year': '2024', 'val': 91215, 'attrId': 1}]},\n",
              "  {'id': '023200000000',\n",
              "   'name': 'ZACHODNIOPOMORSKIE',\n",
              "   'values': [{'year': '2024', 'val': 40300, 'attrId': 1}]},\n",
              "  {'id': '030200000000',\n",
              "   'name': 'DOLNOŚLĄSKIE',\n",
              "   'values': [{'year': '2024', 'val': 51585, 'attrId': 1}]},\n",
              "  {'id': '031600000000',\n",
              "   'name': 'OPOLSKIE',\n",
              "   'values': [{'year': '2024', 'val': 67436, 'attrId': 1}]},\n",
              "  {'id': '040400000000',\n",
              "   'name': 'KUJAWSKO-POMORSKIE',\n",
              "   'values': [{'year': '2024', 'val': 73233, 'attrId': 1}]},\n",
              "  {'id': '042200000000',\n",
              "   'name': 'POMORSKIE',\n",
              "   'values': [{'year': '2024', 'val': 56949, 'attrId': 1}]},\n",
              "  {'id': '042800000000',\n",
              "   'name': 'WARMIŃSKO-MAZURSKIE',\n",
              "   'values': [{'year': '2024', 'val': 62698, 'attrId': 1}]},\n",
              "  {'id': '051000000000',\n",
              "   'name': 'ŁÓDZKIE',\n",
              "   'values': [{'year': '2024', 'val': 58023, 'attrId': 1}]},\n",
              "  {'id': '052600000000',\n",
              "   'name': 'ŚWIĘTOKRZYSKIE',\n",
              "   'values': [{'year': '2024', 'val': 47046, 'attrId': 1}]},\n",
              "  {'id': '060600000000',\n",
              "   'name': 'LUBELSKIE',\n",
              "   'values': [{'year': '2024', 'val': 56810, 'attrId': 1}]},\n",
              "  {'id': '061800000000',\n",
              "   'name': 'PODKARPACKIE',\n",
              "   'values': [{'year': '2024', 'val': 40530, 'attrId': 1}]},\n",
              "  {'id': '062000000000',\n",
              "   'name': 'PODLASKIE',\n",
              "   'values': [{'year': '2024', 'val': 69045, 'attrId': 1}]},\n",
              "  {'id': '071400000000',\n",
              "   'name': 'MAZOWIECKIE',\n",
              "   'values': [{'year': '2024', 'val': 64456, 'attrId': 1}]}]}"
            ]
          },
          "metadata": {},
          "execution_count": 9
        }
      ]
    },
    {
      "cell_type": "markdown",
      "source": [
        "## ZADANIE (grupy 2-3 osoby)\n",
        "\n",
        "Pobierz dane dla wybranej zmiennej (dowiedz się co ona oznacza) dla wybranego województwa, w podziale na powiaty."
      ],
      "metadata": {
        "id": "Fg_jjPqPD9qz"
      }
    }
  ]
}